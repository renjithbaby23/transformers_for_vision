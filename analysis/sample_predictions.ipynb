{
 "cells": [
  {
   "cell_type": "code",
   "execution_count": null,
   "id": "9567951b",
   "metadata": {},
   "outputs": [],
   "source": [
    "from pathlib import Path\n",
    "import sys\n",
    "\n",
    "from matplotlib import pyplot as plt\n",
    "import torch\n",
    "from torch.utils.data import DataLoader\n",
    "\n",
    "%matplotlib inline"
   ]
  },
  {
   "cell_type": "code",
   "execution_count": null,
   "id": "d75c9e3f",
   "metadata": {},
   "outputs": [],
   "source": [
    "sys.path.append(\"../\")\n",
    "from model import inference\n",
    "from data.data_loader_segmentation import SegmentationDataset"
   ]
  },
  {
   "cell_type": "code",
   "execution_count": null,
   "id": "f2d36600",
   "metadata": {},
   "outputs": [],
   "source": [
    "checkpoint_path = Path(\"../artefacts/checkpoint/best_model.pth\")\n",
    "model = inference.load_model(checkpoint_path)"
   ]
  },
  {
   "cell_type": "code",
   "execution_count": null,
   "id": "bb1309ec",
   "metadata": {},
   "outputs": [],
   "source": [
    "image_path = Path(\n",
    "            \"../artefacts/satellite_image_segmentation_dataset/\"\n",
    "            \"val/Tile 3/images/image_part_009.jpg\"\n",
    "        )\n",
    "inference.inference_on_single_image(model, image_path, plot=True)"
   ]
  },
  {
   "cell_type": "code",
   "execution_count": null,
   "id": "546f78fc",
   "metadata": {},
   "outputs": [],
   "source": [
    "test_dir = Path(\n",
    "            \"../artefacts/satellite_image_segmentation_dataset/val\"\n",
    "        )\n",
    "test_dataset = SegmentationDataset(test_dir)\n",
    "test_dataloader = DataLoader(\n",
    "    test_dataset, batch_size=1, shuffle=False, num_workers=0\n",
    ")\n",
    "\n",
    "inference.inference_on_dataloader(model, test_dataloader, plot=True)"
   ]
  },
  {
   "cell_type": "code",
   "execution_count": null,
   "id": "4dd91894",
   "metadata": {},
   "outputs": [],
   "source": []
  }
 ],
 "metadata": {
  "kernelspec": {
   "display_name": "py3.10x",
   "language": "python",
   "name": "py3.10x"
  },
  "language_info": {
   "codemirror_mode": {
    "name": "ipython",
    "version": 3
   },
   "file_extension": ".py",
   "mimetype": "text/x-python",
   "name": "python",
   "nbconvert_exporter": "python",
   "pygments_lexer": "ipython3",
   "version": "3.10.9"
  }
 },
 "nbformat": 4,
 "nbformat_minor": 5
}
